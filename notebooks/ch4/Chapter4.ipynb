{
 "cells": [
  {
   "cell_type": "markdown",
   "metadata": {},
   "source": [
    "# Chapter 4: Trees & Graphs"
   ]
  },
  {
   "cell_type": "markdown",
   "metadata": {},
   "source": [
    "## __4.1 Route Between Nodes:__ \n",
    "Given a directed graph, design an algorithm to find out whether there is a route between nodes"
   ]
  },
  {
   "cell_type": "code",
   "execution_count": 1,
   "metadata": {
    "collapsed": true
   },
   "outputs": [],
   "source": [
    "# I'll represent graphs a dictionary of vertices (which in turn will be list of vertex neighbors)\n",
    "# ex. A = [B, C]"
   ]
  },
  {
   "attachments": {
    "graph41.png": {
     "image/png": "[encoded data removed]"
    }
   },
   "cell_type": "markdown",
   "metadata": {},
   "source": [
    "![graph41.png](attachment:graph41.png)"
   ]
  },
  {
   "cell_type": "code",
   "execution_count": 2,
   "metadata": {
    "collapsed": true
   },
   "outputs": [],
   "source": [
    "class Node():\n",
    "    __slots__=[\"neighbors\", \"key\"]\n",
    "    \n",
    "    def __init__(self, key):\n",
    "        self.key=key\n",
    "        self.neighbors=set()\n",
    "    \n",
    "    def __str__(self):\n",
    "        return \"{0}: {1} \".format(self.key, self.neighbors)\n",
    "    \n",
    "    def __repr__(self):\n",
    "        return self.key\n",
    "    \n",
    "    def __eq__(self, other):\n",
    "        return self.key == other.key\n",
    "    \n",
    "    def __hash__(self):\n",
    "        return hash(self.key)\n",
    "    \n",
    "class Graph():\n",
    "    __slots__=[\"vertices\"]\n",
    "    \n",
    "    def __init__(self):\n",
    "        self.vertices=set()\n",
    "        \n",
    "    def __str__(self):\n",
    "        return str([(str(vertex)) for vertex in list(self.vertices)])"
   ]
  },
  {
   "cell_type": "code",
   "execution_count": 3,
   "metadata": {},
   "outputs": [
    {
     "name": "stdout",
     "output_type": "stream",
     "text": [
      "['B: {A, C} ', 'A: {B, C} ', 'D: set() ', 'C: {B, A} ']\n"
     ]
    }
   ],
   "source": [
    "# from graphlib import *\n",
    "\n",
    "graph = Graph()\n",
    "\n",
    "A, B, C, D = Node(\"A\"), Node(\"B\"), Node(\"C\"), Node(\"D\") \n",
    "A.neighbors.add(B)\n",
    "A.neighbors.add(C)\n",
    "\n",
    "B.neighbors.add(A)\n",
    "B.neighbors.add(C)\n",
    "\n",
    "C.neighbors.add(A)\n",
    "C.neighbors.add(B)\n",
    "\n",
    "graph.vertices.update({A,B,C,D})\n",
    "print(graph)"
   ]
  },
  {
   "cell_type": "markdown",
   "metadata": {},
   "source": [
    "### 4.1 Solution "
   ]
  },
  {
   "cell_type": "code",
   "execution_count": 4,
   "metadata": {},
   "outputs": [],
   "source": [
    "# v, w are vertices in graph G\n",
    "def is_path(v, w, G):\n",
    "    queue = [v] + [neighbor for neighbor in v.neighbors]\n",
    "    visited = set()\n",
    "    \n",
    "    # Check for trivial cases     \n",
    "    if len(list(v.neighbors)) == 0 or len(list(w.neighbors)) == 0:\n",
    "        return False\n",
    "    elif v.key == w.key:\n",
    "        return True\n",
    "    \n",
    "    while len(queue) > 0:\n",
    "        probe = queue.pop(0)\n",
    "        for neighbor in probe.neighbors:\n",
    "            if neighbor.key == w.key:\n",
    "                return True\n",
    "            if neighbor not in visited:\n",
    "                queue.append(neighbor)\n",
    "    \n",
    "    return False"
   ]
  },
  {
   "cell_type": "code",
   "execution_count": 7,
   "metadata": {
    "scrolled": true
   },
   "outputs": [
    {
     "data": {
      "text/plain": [
       "False"
      ]
     },
     "execution_count": 7,
     "metadata": {},
     "output_type": "execute_result"
    }
   ],
   "source": [
    "is_path(A,D,graph)"
   ]
  },
  {
   "cell_type": "markdown",
   "metadata": {},
   "source": [
    "## 4.2 Minimal Tree\n",
    "Given a sorted (increasing order) array with uniquw integer elements, write an algorithm to create a binary search tree of minimum height\n"
   ]
  },
  {
   "cell_type": "code",
   "execution_count": null,
   "metadata": {
    "collapsed": true
   },
   "outputs": [],
   "source": []
  }
 ],
 "metadata": {
  "kernelspec": {
   "display_name": "Python 3",
   "language": "python",
   "name": "python3"
  }
 },
 "nbformat": 4,
 "nbformat_minor": 2
}
